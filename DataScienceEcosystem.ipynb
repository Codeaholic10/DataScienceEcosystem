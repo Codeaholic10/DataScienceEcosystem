{
 "cells": [
  {
   "cell_type": "markdown",
   "id": "8b2c3e14-af9a-41f0-a17d-fa160d16092e",
   "metadata": {},
   "source": [
    "# Data Science Tools and Ecosystem"
   ]
  },
  {
   "cell_type": "markdown",
   "id": "1ed1172f-6c77-4d6f-b673-0ae648e03dd8",
   "metadata": {},
   "source": [
    "In this notebook, Data Science Tools and Ecosystem are summarized.\r\n",
    "\r\n"
   ]
  },
  {
   "cell_type": "markdown",
   "id": "383e44bd-ac0b-4489-b4f2-a98f2f98cd6f",
   "metadata": {},
   "source": [
    "<b>Some of the popular languages that Data Scientists use are:<b>"
   ]
  },
  {
   "cell_type": "markdown",
   "id": "3f6e46ca-15ff-4b1f-97c2-ce9fa075e69a",
   "metadata": {},
   "source": [
    "<ol>\n",
    "    <li>Python</li>\n",
    "    <li>R</li>\n",
    "    <li>SQL</li>\n",
    "    <li>Julia</li>\n",
    "</ol>"
   ]
  },
  {
   "cell_type": "markdown",
   "id": "236c4687-358e-4f74-a3c0-1879922a36b4",
   "metadata": {},
   "source": [
    "<b>Some of the commonly used libraries used by Data Scientists include:<b>"
   ]
  },
  {
   "cell_type": "markdown",
   "id": "0846519f-1661-4e55-bfa0-1876f056d665",
   "metadata": {},
   "source": [
    "<ol>\n",
    "    <li>TensorFlow</li>\n",
    "    <li>NumPy</li>\n",
    "    <li>PyTorch</li>\n",
    "    <li>Pandas</li>\n",
    "</ol>"
   ]
  },
  {
   "cell_type": "markdown",
   "id": "eb13d205-7eef-4d61-97e0-42525cc13b3b",
   "metadata": {},
   "source": [
    "<b>Data Science Tools<b>"
   ]
  },
  {
   "cell_type": "markdown",
   "id": "df2695de-49cb-488a-bdfb-34dae0a31462",
   "metadata": {},
   "source": [
    "| Data Science Tools |\r\n",
    "| -------------|\r\n",
    "| MongoDB |\r\n",
    "| Apache SparkSQL |\r\n",
    "| TensorFlow |</tr>\r\n",
    "</table>\r\n"
   ]
  },
  {
   "cell_type": "markdown",
   "id": "ba83167b-90e0-4f78-a9b3-f04781ef3e90",
   "metadata": {},
   "source": [
    "### Below are a few examples of evaluating arithmetic expressions in Python"
   ]
  },
  {
   "cell_type": "code",
   "execution_count": 31,
   "id": "64af37b6-e27d-4921-907b-00118efe258a",
   "metadata": {},
   "outputs": [
    {
     "name": "stdout",
     "output_type": "stream",
     "text": [
      "17\n",
      "True\n"
     ]
    }
   ],
   "source": [
    "# This a simple arithmetic expression to mutiply then add integers\n",
    "eval = (3*4)+5\n",
    "print(eval)\n",
    "print(eval==17)"
   ]
  },
  {
   "cell_type": "code",
   "execution_count": 33,
   "id": "0e5e6628-48b5-495d-8bad-177b5332970c",
   "metadata": {},
   "outputs": [
    {
     "name": "stdout",
     "output_type": "stream",
     "text": [
      "33.333333333333336\n"
     ]
    }
   ],
   "source": [
    "# This will convert 200 minutes to hours by diving by 60\n",
    "print(200 / 6)"
   ]
  },
  {
   "cell_type": "markdown",
   "id": "19782762-f0fc-4e31-903f-f6800efaefe6",
   "metadata": {},
   "source": [
    "**Objectives:** List popular languages for Data Science.\r\n",
    "- Python\r\n",
    "- R\r\n",
    "- SQL"
   ]
  },
  {
   "cell_type": "markdown",
   "id": "649ef4d7-d730-43a6-a110-59783b95e3ac",
   "metadata": {},
   "source": [
    "## Author\n",
    "Aaditya "
   ]
  },
  {
   "cell_type": "code",
   "execution_count": null,
   "id": "0dd073ed-6fa6-4e7a-98ff-22c5e91f443a",
   "metadata": {},
   "outputs": [],
   "source": []
  }
 ],
 "metadata": {
  "kernelspec": {
   "display_name": "Python [conda env:base] *",
   "language": "python",
   "name": "conda-base-py"
  },
  "language_info": {
   "codemirror_mode": {
    "name": "ipython",
    "version": 3
   },
   "file_extension": ".py",
   "mimetype": "text/x-python",
   "name": "python",
   "nbconvert_exporter": "python",
   "pygments_lexer": "ipython3",
   "version": "3.12.4"
  }
 },
 "nbformat": 4,
 "nbformat_minor": 5
}
